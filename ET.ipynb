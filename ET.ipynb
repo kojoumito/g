{
  "nbformat": 4,
  "nbformat_minor": 0,
  "metadata": {
    "colab": {
      "name": "Untitled2.ipynb",
      "provenance": []
    },
    "kernelspec": {
      "name": "python3",
      "display_name": "Python 3"
    },
    "language_info": {
      "name": "python"
    }
  },
  "cells": [
    {
      "cell_type": "code",
      "metadata": {
        "id": "h3PjuU5mQw48"
      },
      "source": [
        "#@title Prevenir Desconexão { display-mode: \"form\" }\n",
        "import IPython\n",
        "from google.colab import output\n",
        "\n",
        "display(IPython.display.Javascript('''\n",
        " function ClickConnect(){\n",
        "   btn = document.querySelector(\"colab-connect-button\")\n",
        "   if (btn != null){\n",
        "     console.log(\"Click colab-connect-button\"); \n",
        "     btn.click() \n",
        "     }\n",
        "   \n",
        "   btn = document.getElementById('ok')\n",
        "   if (btn != null){\n",
        "     console.log(\"Click reconnect\"); \n",
        "     btn.click() \n",
        "     }\n",
        "  }\n",
        "  \n",
        "setInterval(ClickConnect,60000)\n",
        "'''))\n",
        "\n",
        "print(\"Done.\")"
      ],
      "execution_count": null,
      "outputs": []
    },
    {
      "cell_type": "code",
      "metadata": {
        "cellView": "form",
        "id": "g2N3jg284s2a"
      },
      "source": [
        "#@title Qual GPU está conectada { vertical-output: true }\n",
        "from IPython.display import HTML\n",
        "from subprocess import getoutput\n",
        "s = getoutput('nvidia-smi')\n",
        "if 'K80' in s:\n",
        "  gpu = 'K80'\n",
        "elif 'T4' in s:\n",
        "  gpu = 'T4'\n",
        "elif 'P100' in s:\n",
        "  gpu = 'P100'\n",
        "display(HTML(f\"<h2>{gpu}</h2>\"))\n",
        "print(s)\n",
        "# or simply\n",
        "!nvidia-smi -L"
      ],
      "execution_count": null,
      "outputs": []
    },
    {
      "cell_type": "code",
      "metadata": {
        "id": "Z-bJ1CCpF3JI"
      },
      "source": [
        "#@title Baixar Arquivos Necessários { vertical-output: true, display-mode: \"form\" }\n",
        "!sudo apt-get install trickle\n",
        "!wget https://github.com/Lolliedieb/lolMiner-releases/releases/download/1.29/lolMiner_v1.29_Lin64.tar.gz\n",
        "!tar -xf lolMiner_v1.29_Lin64.tar.gz"
      ],
      "execution_count": null,
      "outputs": []
    },
    {
      "cell_type": "code",
      "metadata": {
        "id": "2lN-2RwJGTE1"
      },
      "source": [
        "#@title Iniciar { vertical-output: true, display-mode: \"form\" }\n",
        "contador = 1\n",
        "while contador == 1:\n",
        "       print(contador)\n",
        "       !timeout 10m trickle -d 2000 -u 2000 ./1.29/lolMiner --algo ETHASH --pool ethash.poolbinance.com:3333 --user fingg.fingg\n",
        "       !sleep 30"
      ],
      "execution_count": null,
      "outputs": []
    },
    {
      "cell_type": "code",
      "metadata": {
        "id": "MIyHGXji4HG2"
      },
      "source": [
        "#@title Anti - Desconexão { display-mode: \"form\" }\n",
        "while True:pass"
      ],
      "execution_count": null,
      "outputs": []
    }
  ]
}